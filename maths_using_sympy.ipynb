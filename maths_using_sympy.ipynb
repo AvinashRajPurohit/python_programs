{
 "cells": [
  {
   "cell_type": "code",
   "execution_count": 1,
   "metadata": {},
   "outputs": [],
   "source": [
    "from sympy import poly\n",
    "from sympy.abc import *\n",
    "from sympy import *"
   ]
  },
  {
   "cell_type": "code",
   "execution_count": 2,
   "metadata": {},
   "outputs": [
    {
     "data": {
      "text/latex": [
       "$\\displaystyle \\operatorname{Poly}{\\left( 10 x^{2} - 17 x + 6, x, domain=\\mathbb{Z} \\right)}$"
      ],
      "text/plain": [
       "Poly(10*x**2 - 17*x + 6, x, domain='ZZ')"
      ]
     },
     "execution_count": 2,
     "metadata": {},
     "output_type": "execute_result"
    }
   ],
   "source": [
    "((2*x-1)*(5*x-6)).as_poly()"
   ]
  },
  {
   "cell_type": "code",
   "execution_count": null,
   "metadata": {},
   "outputs": [],
   "source": [
    "from sympy import *\n",
    "init_printing()"
   ]
  },
  {
   "cell_type": "code",
   "execution_count": 6,
   "metadata": {},
   "outputs": [
    {
     "data": {
      "text/latex": [
       "$\\displaystyle a \\left(a + 1\\right) + b x + x e^{- c x}$"
      ],
      "text/plain": [
       "a*(a + 1) + b*x + x*exp(-c*x)"
      ]
     },
     "execution_count": 6,
     "metadata": {},
     "output_type": "execute_result"
    }
   ],
   "source": [
    "def ex(e,x):\n",
    "    m = [i for i in e.atoms(Mul) if not i.has(x)]\n",
    "    reps = dict(zip(m,[Dummy() for i in m]))\n",
    "    return expand(e.xreplace(reps)).subs([(v,k) for k,v in reps.items()])\n",
    "\n",
    "f = ((2*x-1)*(5*x-6))\n",
    "ex(f,x)\n",
    "a*(a + 1) + b*x + x*exp(-c*x)"
   ]
  },
  {
   "cell_type": "code",
   "execution_count": 104,
   "metadata": {},
   "outputs": [],
   "source": [
    "series((2*x-1)*(5*x-6), x, 1)"
   ]
  },
  {
   "cell_type": "code",
   "execution_count": 14,
   "metadata": {},
   "outputs": [
    {
     "name": "stdout",
     "output_type": "stream",
     "text": [
      "2 5\n"
     ]
    }
   ],
   "source": [
    "p1 = (2*x-1)\n",
    "p2 = (5*x-6)\n",
    "x,y,xy=symbols('x,y,xy')\n",
    "c1 = p1.coeff(x)\n",
    "c2 = p2.coeff(x)\n",
    "print(c1,c2)"
   ]
  },
  {
   "cell_type": "code",
   "execution_count": 15,
   "metadata": {},
   "outputs": [
    {
     "data": {
      "text/latex": [
       "$\\displaystyle \\sqrt{2}$"
      ],
      "text/plain": [
       "sqrt(2)"
      ]
     },
     "execution_count": 15,
     "metadata": {},
     "output_type": "execute_result"
    }
   ],
   "source": [
    "sqrt(2)"
   ]
  },
  {
   "cell_type": "code",
   "execution_count": 17,
   "metadata": {},
   "outputs": [
    {
     "data": {
      "text/plain": [
       "[(1,), (0,)]"
      ]
     },
     "execution_count": 17,
     "metadata": {},
     "output_type": "execute_result"
    }
   ],
   "source": [
    "a= Poly(p1).monoms()\n",
    "a"
   ]
  },
  {
   "cell_type": "code",
   "execution_count": 22,
   "metadata": {},
   "outputs": [
    {
     "name": "stdout",
     "output_type": "stream",
     "text": [
      "10*x**2 - 17*x + 6\n"
     ]
    }
   ],
   "source": [
    "f = (2*x-1)*(5*x-6)\n",
    "print(expand(f,x))"
   ]
  },
  {
   "cell_type": "code",
   "execution_count": 23,
   "metadata": {},
   "outputs": [],
   "source": [
    "def myGauss(m):\n",
    "    #eliminate columns\n",
    "    for col in range(len(m[0])):\n",
    "        for row in range(col+1, len(m)):\n",
    "            r = [(rowValue * (-(m[row][col] / m[col][col]))) for rowValue in m[col]]\n",
    "            m[row] = [sum(pair) for pair in zip(m[row], r)]\n",
    "            print('Reduce matrix to row echelon form',m)\n",
    "            print('=='*50)\n",
    "    #now backsolve by substitution\n",
    "    ans = []\n",
    "    m.reverse() #makes it easier to backsolve\n",
    "    for sol in range(len(m)):\n",
    "            if sol == 0:\n",
    "                ans.append(m[sol][-1] / m[sol][-2])\n",
    "            else:\n",
    "                inner = 0\n",
    "                #substitute in all known coefficients\n",
    "                for x in range(sol):\n",
    "                    inner += (ans[x]*m[sol][-2-x])\n",
    "                #the equation is now reduced to ax + b = c form\n",
    "                #solve with (c - b) / a\n",
    "                ans.append((m[sol][-1]-inner)/m[sol][-sol-2])\n",
    "    ans.reverse()\n",
    "    print(\"The solutions to the system of equations are x=\",ans[0],\", z=\",ans[1])"
   ]
  },
  {
   "cell_type": "code",
   "execution_count": 24,
   "metadata": {},
   "outputs": [
    {
     "name": "stdout",
     "output_type": "stream",
     "text": [
      "Reduce matrix to row echelon form [[1, 1, 1], [0.0, 1.0, 3.0]]\n",
      "====================================================================================================\n",
      "The solutions to the system of equations are x= -2.0 , z= 3.0\n"
     ]
    }
   ],
   "source": [
    "myGauss([[1,1,1],\n",
    "         [1,2,4]])"
   ]
  }
 ],
 "metadata": {
  "kernelspec": {
   "display_name": "Python 3",
   "language": "python",
   "name": "python3"
  },
  "language_info": {
   "codemirror_mode": {
    "name": "ipython",
    "version": 3
   },
   "file_extension": ".py",
   "mimetype": "text/x-python",
   "name": "python",
   "nbconvert_exporter": "python",
   "pygments_lexer": "ipython3",
   "version": "3.8.2"
  },
  "nbTranslate": {
   "displayLangs": [
    "*"
   ],
   "hotkey": "alt-t",
   "langInMainMenu": true,
   "sourceLang": "en",
   "targetLang": "fr",
   "useGoogleTranslate": true
  }
 },
 "nbformat": 4,
 "nbformat_minor": 4
}
