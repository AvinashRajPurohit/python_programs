{
 "cells": [
  {
   "cell_type": "markdown",
   "metadata": {},
   "source": [
    "# Object Oriented Programming (OOPs):\n",
    "\n",
    "* Class \n",
    "* Object \n",
    "* Reference variable "
   ]
  },
  {
   "cell_type": "code",
   "execution_count": 5,
   "metadata": {},
   "outputs": [
    {
     "name": "stdout",
     "output_type": "stream",
     "text": [
      "arvind\n",
      "My name is arvind\n",
      "My roll no is 12\n",
      "rv\n",
      "My name is rv\n",
      "My roll no is 11\n"
     ]
    }
   ],
   "source": [
    "'''\n",
    "For understaning oops easily we will take an example let we want to create an building than first we have to make\n",
    "design/blueprint of building after creating this blueprint we can create multiple buildings\n",
    "In Programming-:\n",
    "here design of building is the class in oops concept and multiple building is called objects\n",
    "and we have to store address of each object in a variable called reference variable so we can call class methods using \n",
    "refrence variable we will clearly understand in example\n",
    "'''\n",
    "\n",
    "class student: # here student is class \n",
    "    \n",
    "    def __init__(self,rollno,name):\n",
    "        self.rollno = rollno\n",
    "        self.name = name\n",
    "    \n",
    "    def intro(self):  # intro is method\n",
    "        print('My name is', self.name)\n",
    "        print('My roll no is',self.rollno)\n",
    "        \n",
    "s = student(12,'arvind') # student(12,'arvind') is object and s is reference variable\n",
    "print(s.name)\n",
    "s.intro() # calling method\n",
    "\n",
    "s1= student(11,'rv')\n",
    "print(s1.name)\n",
    "s1.intro()"
   ]
  },
  {
   "cell_type": "code",
   "execution_count": null,
   "metadata": {},
   "outputs": [],
   "source": []
  }
 ],
 "metadata": {
  "kernelspec": {
   "display_name": "Python 3",
   "language": "python",
   "name": "python3"
  },
  "language_info": {
   "codemirror_mode": {
    "name": "ipython",
    "version": 3
   },
   "file_extension": ".py",
   "mimetype": "text/x-python",
   "name": "python",
   "nbconvert_exporter": "python",
   "pygments_lexer": "ipython3",
   "version": "3.8.2"
  }
 },
 "nbformat": 4,
 "nbformat_minor": 4
}
