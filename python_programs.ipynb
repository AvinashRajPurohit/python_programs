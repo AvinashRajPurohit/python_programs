{
 "cells": [
  {
   "cell_type": "markdown",
   "metadata": {},
   "source": [
    "### 1. Get a list of tuples. Write a function to sort the list by second value. Do not use existing functions. Example input: [(3,0), (0,10), (2,1), (5,3)] Example output: [(3,0),(2,1),(5,3),(0,10)]"
   ]
  },
  {
   "cell_type": "code",
   "execution_count": 27,
   "metadata": {},
   "outputs": [
    {
     "name": "stdout",
     "output_type": "stream",
     "text": [
      "[(3, 0), (2, 1), (5, 3), (0, 10)]\n"
     ]
    }
   ],
   "source": [
    "def sortSecond(arr):\n",
    "    for i in range(0, len(arr)):\n",
    "        for j in range(0, len(arr)-i-1):\n",
    "            if arr[j][1] > arr[j+1][1]:\n",
    "                temp = arr[j]\n",
    "                arr[j] = arr[j+1]\n",
    "                arr[j+1] = temp\n",
    "    return arr\n",
    "\n",
    "    \n",
    "arr = [(3,0), (0,10), (2,1), (5,3)]\n",
    "print(sortSecond(arr))"
   ]
  },
  {
   "cell_type": "markdown",
   "metadata": {},
   "source": [
    " ### Read a text file containing plain text. Find out the word that has been used the maximum number of times"
   ]
  },
  {
   "cell_type": "code",
   "execution_count": 72,
   "metadata": {},
   "outputs": [
    {
     "name": "stdout",
     "output_type": "stream",
     "text": [
      "people : 3\n"
     ]
    }
   ],
   "source": [
    "def customSplit(text, space):\n",
    "    final_list = []\n",
    "    start = 0\n",
    "    for index, char in enumerate(text):\n",
    "        if char == space:\n",
    "            final_list.append(text[start:index])\n",
    "            start = index+1\n",
    "    if start ==0:\n",
    "        return [text]\n",
    "    final_list.append(text[start:index+1])\n",
    "        \n",
    "    return final_list\n",
    "\n",
    "def maxWords(text):\n",
    "    lst = customSplit(text, \" \")\n",
    "    d = {}\n",
    "    for word in lst:\n",
    "        if word in d:\n",
    "            d[word] = d[word]+1\n",
    "        else:\n",
    "            d[word] = 1\n",
    "    maximum = max(d, key=d.get)\n",
    "    print(maximum,':',d[maximum])\n",
    "            \n",
    "\n",
    "text = \"there are two people with another two people cause there are so many people\"\n",
    "maxWords(text)"
   ]
  },
  {
   "cell_type": "markdown",
   "metadata": {},
   "source": [
    "###   Read a text file containing plain text. Find out the average length of words that end with “ed” or “ion”.  "
   ]
  },
  {
   "cell_type": "code",
   "execution_count": 107,
   "metadata": {},
   "outputs": [
    {
     "name": "stdout",
     "output_type": "stream",
     "text": [
      "average length for ed:  6 average length for ion:  12\n"
     ]
    }
   ],
   "source": [
    "def customSplit(text, space):\n",
    "    final_list = []\n",
    "    start = 0\n",
    "    for index, char in enumerate(text):\n",
    "        if char == space:\n",
    "            final_list.append(text[start:index])\n",
    "            start = index+1\n",
    "    if start ==0:\n",
    "        return [text]\n",
    "    final_list.append(text[start:index+1])\n",
    "        \n",
    "    return final_list\n",
    "\n",
    "def endswith_ed(a):\n",
    "    b='ed'\n",
    "    i = (a[-2:])\n",
    "    j = (b[:])\n",
    "    if i == j:\n",
    "        return True\n",
    "    return False\n",
    "\n",
    "def endswith_ion(a):\n",
    "    b = 'ion'\n",
    "    i = (a[-3:])\n",
    "    j = (b[:])\n",
    "    if i == j:\n",
    "        return True\n",
    "    return False\n",
    "\n",
    "def ed_ion(text):\n",
    "    lst = customSplit(text, \" \")\n",
    "    len_word_ed = 0\n",
    "    len_word_ion = 0\n",
    "    total_ed = 0\n",
    "    total_ion = 0\n",
    "    for word in lst:\n",
    "        word = str(word)\n",
    "        if endswith_ed(word):\n",
    "            len_word_ed +=len(word)\n",
    "            total_ed+=1\n",
    "        elif endswith_ion(word):\n",
    "            len_word_ion+= len(word)\n",
    "            total_ion += 1\n",
    "    # average length of words that end with “ed”\n",
    "    avg_ed = len_word_ed//total_ed\n",
    "    \n",
    "    # average length of words that end with “ion”\n",
    "    avg_ion = len_word_ion//total_ion\n",
    "    print(\"average length for ed: \",avg_ed, 'average length for ion: ',avg_ion )     \n",
    "    \n",
    "text = \"the meths term differentiation inigration and we can talked about past tense with contain wondered walked stalked\"\n",
    "ed_ion(text)"
   ]
  },
  {
   "cell_type": "markdown",
   "metadata": {},
   "source": [
    "#### 4. Given the coordinates (x,y) of an equilateral triangle, calculate circumcenter. "
   ]
  },
  {
   "cell_type": "code",
   "execution_count": 3,
   "metadata": {},
   "outputs": [
    {
     "ename": "SyntaxError",
     "evalue": "invalid syntax (<ipython-input-3-89b7e0e9373b>, line 7)",
     "output_type": "error",
     "traceback": [
      "\u001b[0;36m  File \u001b[0;32m\"<ipython-input-3-89b7e0e9373b>\"\u001b[0;36m, line \u001b[0;32m7\u001b[0m\n\u001b[0;31m    ax = 6\u001b[0m\n\u001b[0m    ^\u001b[0m\n\u001b[0;31mSyntaxError\u001b[0m\u001b[0;31m:\u001b[0m invalid syntax\n"
     ]
    }
   ],
   "source": [
    "def circumcenter(ax,ay,bx,by,cx,cy):\n",
    "    d = 2 * (ax * (by - cy) + bx * (cy - ay) + cx * (ay - by))\n",
    "    ux = ((ax * ax + ay * ay) * (by - cy) + (bx * bx + by * by) * (cy - ay) + (cx * cx + cy * cy) * (ay - by)) / d\n",
    "    uy = ((ax * ax + ay * ay) * (cx - bx) + (bx * bx + by * by) * (ax - cx) + (cx * cx + cy * cy) * (bx - ax)) / d\n",
    "    return (int(ux), int(uy)\n",
    "\n",
    "ax = 6\n",
    "ay = 0\n",
    "bx = 0\n",
    "by = 0\n",
    "cx = 0\n",
    "cy = 8\n",
    "\n",
    "circumcenter(ax,ay,bx,by,cx,cy)\n"
   ]
  },
  {
   "cell_type": "code",
   "execution_count": null,
   "metadata": {},
   "outputs": [],
   "source": []
  }
 ],
 "metadata": {
  "kernelspec": {
   "display_name": "Python 3",
   "language": "python",
   "name": "python3"
  },
  "language_info": {
   "codemirror_mode": {
    "name": "ipython",
    "version": 3
   },
   "file_extension": ".py",
   "mimetype": "text/x-python",
   "name": "python",
   "nbconvert_exporter": "python",
   "pygments_lexer": "ipython3",
   "version": "3.8.2"
  },
  "nbTranslate": {
   "displayLangs": [
    "*"
   ],
   "hotkey": "alt-t",
   "langInMainMenu": true,
   "sourceLang": "en",
   "targetLang": "fr",
   "useGoogleTranslate": true
  }
 },
 "nbformat": 4,
 "nbformat_minor": 4
}
